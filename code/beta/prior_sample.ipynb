{
 "metadata": {
  "language_info": {
   "codemirror_mode": {
    "name": "ipython",
    "version": 3
   },
   "file_extension": ".py",
   "mimetype": "text/x-python",
   "name": "python",
   "nbconvert_exporter": "python",
   "pygments_lexer": "ipython3",
   "version": "3.7.6-final"
  },
  "orig_nbformat": 2,
  "kernelspec": {
   "name": "python3",
   "display_name": "Python 3",
   "language": "python"
  }
 },
 "nbformat": 4,
 "nbformat_minor": 2,
 "cells": [
  {
   "cell_type": "code",
   "execution_count": 1,
   "metadata": {},
   "outputs": [],
   "source": [
    "import torch\n",
    "import dill\n",
    "import os.path as op\n",
    "import numpy as np\n",
    "import hnn_core\n",
    "from hnn_core import simulate_dipole, Network, read_params, JoblibBackend\n",
    "import matplotlib as mpl\n",
    "import matplotlib.pyplot as plt\n",
    "import sbi.utils as utils\n",
    "from sbi.inference.base import infer\n",
    "import multiprocessing\n",
    "import datetime\n",
    "from sbi.inference import SNPE, prepare_for_sbi, simulate_for_sbi\n",
    "from scipy import interpolate\n"
   ]
  },
  {
   "cell_type": "code",
   "execution_count": 2,
   "metadata": {},
   "outputs": [],
   "source": [
    "param_dict = {'dipole_scalefctr': (60000, 200000),\n",
    " 't_evprox_1': (125, 155),\n",
    " 'sigma_t_evprox_1': (10, 50),\n",
    " 'numspikes_evprox_1': (1, 20),\n",
    " 'gbar_evprox_1_L2Pyr_ampa': (1e-06, 0.0005),\n",
    " 'gbar_evprox_1_L5Pyr_ampa': (1e-06, 0.0005),\n",
    " 't_evdist_1': (135, 155),\n",
    " 'sigma_t_evdist_1': (5, 30),\n",
    " 'numspikes_evdist_1': (1, 20),\n",
    " 'gbar_evdist_1_L2Pyr_ampa': (1e-06, 0.0005),\n",
    " 'gbar_evdist_1_L5Pyr_ampa': (1e-06, 0.0005)}\n",
    "\n",
    "param_names = list(param_dict.keys())\n",
    "param_low = [param_dict[name][0] for name in param_names]\n",
    "param_high = [param_dict[name][1] for name in param_names]\n",
    "prior = utils.BoxUniform(low=torch.tensor(param_low), high=torch.tensor(param_high))\n"
   ]
  },
  {
   "cell_type": "code",
   "execution_count": 4,
   "metadata": {},
   "outputs": [
    {
     "output_type": "execute_result",
     "data": {
      "text/plain": [
       "tensor([[1.2332e+05, 1.3077e+02, 3.6741e+01,  ..., 5.4929e+00, 2.3573e-05,\n",
       "         4.4477e-04],\n",
       "        [1.1530e+05, 1.4541e+02, 3.5134e+01,  ..., 1.1008e+01, 1.9158e-04,\n",
       "         4.9076e-04],\n",
       "        [1.1844e+05, 1.5064e+02, 3.5584e+01,  ..., 1.4586e+01, 3.8943e-04,\n",
       "         4.3429e-04],\n",
       "        ...,\n",
       "        [1.4680e+05, 1.3394e+02, 2.0780e+01,  ..., 1.7229e+01, 2.2659e-04,\n",
       "         4.2803e-04],\n",
       "        [1.6074e+05, 1.4593e+02, 2.2473e+01,  ..., 1.5107e+01, 9.7160e-05,\n",
       "         1.5672e-04],\n",
       "        [1.2371e+05, 1.2731e+02, 2.3655e+01,  ..., 5.4723e+00, 3.6620e-04,\n",
       "         1.4699e-04]])"
      ]
     },
     "metadata": {},
     "execution_count": 4
    }
   ],
   "source": [
    "prior.sample_n(100)"
   ]
  },
  {
   "cell_type": "code",
   "execution_count": null,
   "metadata": {},
   "outputs": [],
   "source": []
  }
 ]
}