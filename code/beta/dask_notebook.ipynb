{
 "cells": [
  {
   "cell_type": "code",
   "execution_count": 1,
   "metadata": {},
   "outputs": [],
   "source": [
    "import torch\n",
    "import os\n",
    "\n",
    "if 'DISPLAY' in os.environ:\n",
    "    del os.environ['DISPLAY']\n",
    "\n",
    "import numpy as np\n",
    "import dill\n",
    "import matplot.pyplot as plt\n",
    "import joblib\n",
    "from distributed import Client\n",
    "from dask_jobqueue import SLURMCluster\n",
    "import dask\n",
    "from joblib import Parallel, delayed\n",
    "import time\n",
    "import random\n",
    "import pandas as pd\n",
    "import hnn_core\n",
    "from hnn_core import simulate_dipole, Network, read_params, JoblibBackend\n",
    "import sbi.utils as utils\n",
    "#import logging\n",
    "#logging.basicConfig(format='%(levelname)s:%(message)s', level=logging.DEBUG)\n",
    "\n",
    "\n",
    "cluster = SLURMCluster(\n",
    "                       cores=8,\n",
    "                       processes=1,\n",
    "                       memory=\"20GB\",\n",
    "                       walltime=\"01:00:00\",\n",
    "                    #    queue=\"carney-sjones-condo\"\n",
    ")\n",
    "\n",
    "client = Client(cluster)\n",
    "\n"
   ]
  },
  {
   "cell_type": "code",
   "execution_count": 4,
   "metadata": {},
   "outputs": [],
   "source": [
    "num_simulations = 10\n",
    "\n",
    "params_fname = '/users/ntolley/Jones_Lab/sbi_hnn_github/data/beta/params/beta_param.param'\n",
    "\n",
    "prior_dict = {'dipole_scalefctr': (60000, 200000),\n",
    " 't_evprox_1': (225, 255),\n",
    " 'sigma_t_evprox_1': (10, 50),\n",
    " 'numspikes_evprox_1': (1, 20),\n",
    " 'gbar_evprox_1_L2Pyr_ampa': (1e-06, 0.0005),\n",
    " 'gbar_evprox_1_L5Pyr_ampa': (1e-06, 0.0005),\n",
    " 't_evdist_1': (235, 255),\n",
    " 'sigma_t_evdist_1': (5, 30),\n",
    " 'numspikes_evdist_1': (1, 20),\n",
    " 'gbar_evdist_1_L2Pyr_ampa': (1e-06, 0.0005),\n",
    " 'gbar_evdist_1_L5Pyr_ampa': (1e-06, 0.0005)}\n",
    "\n",
    "param_low = [float(item[0]) for key, item in prior_dict.items()]\n",
    "param_high = [float(item[1]) for key, item in prior_dict.items()]\n",
    "prior = utils.BoxUniform(low=torch.tensor(param_low), high=torch.tensor(param_high))\n",
    "\n",
    "theta_samples = prior.sample((num_simulations,))"
   ]
  },
  {
   "cell_type": "code",
   "execution_count": 16,
   "metadata": {},
   "outputs": [],
   "source": [
    "class HNNSimulator:\n",
    "    def __init__(self, params_fname, prior_dict):\n",
    "        self.params = read_params(params_fname)\n",
    "        self.params['tstop'] = 30\n",
    "        self.param_names = list(prior_dict.keys())\n",
    "\n",
    "    def __call__(self, new_param_values):\n",
    "        new_params = dict(zip(self.param_names, new_param_values.detach().cpu().numpy()))\n",
    "        self.params.update(new_params)\n",
    "\n",
    "        net = Network(self.params)\n",
    "        with JoblibBackend(n_jobs=1):\n",
    "            dpl = simulate_dipole(net, n_trials=1)\n",
    "\n",
    "        summstats = torch.as_tensor(dpl[0].data['agg'])\n",
    "        return summstats\n",
    "\n",
    "\n",
    "#sbi_simulator, sbi_prior = prepare_for_sbi(hnn_simulator, prior)\n",
    "\n",
    "def run_simulator(theta, params_fname, prior_dict, sim_idx):\n",
    "    hnn_simulator = HNNSimulator(params_fname,prior_dict)\n",
    "    dpl = hnn_simulator(theta)\n",
    "    return dpl"
   ]
  },
  {
   "cell_type": "code",
   "execution_count": 17,
   "metadata": {},
   "outputs": [],
   "source": [
    "\n",
    "results = []\n",
    "for sim_idx in range(num_simulations):    \n",
    "    result = dask.delayed(run_simulator)(theta_samples[sim_idx,:], params_fname, prior_dict, sim_idx)\n",
    "    results.append(result)\n",
    "\n"
   ]
  },
  {
   "cell_type": "code",
   "execution_count": 21,
   "metadata": {},
   "outputs": [],
   "source": [
    "client.cluster.scale(10)\n",
    "final = dask.compute(*results)"
   ]
  },
  {
   "cell_type": "code",
   "execution_count": 22,
   "metadata": {},
   "outputs": [
    {
     "ename": "NameError",
     "evalue": "name 'plt' is not defined",
     "output_type": "error",
     "traceback": [
      "\u001b[0;31m---------------------------------------------------------------------------\u001b[0m",
      "\u001b[0;31mNameError\u001b[0m                                 Traceback (most recent call last)",
      "\u001b[0;32m<ipython-input-22-2530a9193af2>\u001b[0m in \u001b[0;36m<module>\u001b[0;34m\u001b[0m\n\u001b[0;32m----> 1\u001b[0;31m \u001b[0mplt\u001b[0m\u001b[0;34m.\u001b[0m\u001b[0mplot\u001b[0m\u001b[0;34m(\u001b[0m\u001b[0mfinal\u001b[0m\u001b[0;34m[\u001b[0m\u001b[0;36m0\u001b[0m\u001b[0;34m]\u001b[0m\u001b[0;34m)\u001b[0m\u001b[0;34m\u001b[0m\u001b[0;34m\u001b[0m\u001b[0m\n\u001b[0m",
      "\u001b[0;31mNameError\u001b[0m: name 'plt' is not defined"
     ]
    }
   ],
   "source": [
    "plt.plot(final[0])"
   ]
  },
  {
   "cell_type": "code",
   "execution_count": 20,
   "metadata": {},
   "outputs": [
    {
     "data": {
      "text/plain": [
       "Delayed('run_simulator-a2202163-7570-476a-a65e-ae4c08035638')"
      ]
     },
     "execution_count": 20,
     "metadata": {},
     "output_type": "execute_result"
    }
   ],
   "source": [
    "results[0]"
   ]
  },
  {
   "cell_type": "code",
   "execution_count": null,
   "metadata": {},
   "outputs": [],
   "source": []
  }
 ],
 "metadata": {
  "kernelspec": {
   "display_name": "sbi_kernel",
   "language": "python",
   "name": "sbi"
  },
  "language_info": {
   "codemirror_mode": {
    "name": "ipython",
    "version": 3
   },
   "file_extension": ".py",
   "mimetype": "text/x-python",
   "name": "python",
   "nbconvert_exporter": "python",
   "pygments_lexer": "ipython3",
   "version": "3.7.9"
  }
 },
 "nbformat": 4,
 "nbformat_minor": 4
}
